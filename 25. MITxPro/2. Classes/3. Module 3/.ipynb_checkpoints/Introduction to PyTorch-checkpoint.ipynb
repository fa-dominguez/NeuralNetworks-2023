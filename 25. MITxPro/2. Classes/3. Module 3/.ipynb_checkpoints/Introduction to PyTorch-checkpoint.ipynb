{
 "cells": [
  {
   "cell_type": "code",
   "execution_count": 3,
   "id": "ac102e2d",
   "metadata": {},
   "outputs": [],
   "source": [
    "# import libraries\n",
    "import torch\n",
    "import numpy as np\n",
    "import matplotlib.pyplot as plt"
   ]
  },
  {
   "cell_type": "code",
   "execution_count": 4,
   "id": "b7049610",
   "metadata": {},
   "outputs": [
    {
     "name": "stdout",
     "output_type": "stream",
     "text": [
      "tensor([[1, 2, 3],\n",
      "        [4, 5, 6],\n",
      "        [7, 8, 9]])\n",
      "<class 'torch.Tensor'>\n"
     ]
    }
   ],
   "source": [
    "# Declare a data list\n",
    "data = [[1, 2, 3], [4, 5, 6], [7, 8, 9]]\n",
    "\n",
    "# Create a tensor from list\n",
    "tensor_data = torch.tensor(data)\n",
    "\n",
    "print(tensor_data)\n",
    "print(type(tensor_data))"
   ]
  },
  {
   "cell_type": "code",
   "execution_count": 5,
   "id": "525d31b0",
   "metadata": {},
   "outputs": [
    {
     "name": "stdout",
     "output_type": "stream",
     "text": [
      "tensor([[1, 2, 3],\n",
      "        [4, 5, 6],\n",
      "        [7, 8, 9]])\n"
     ]
    }
   ],
   "source": [
    "# Declare a numpy array\n",
    "np_array = np.array(data)\n",
    "\n",
    "# Create a tensor from numpy\n",
    "tensor_np = torch.tensor(np_array)\n",
    "\n",
    "print(tensor_np)"
   ]
  },
  {
   "cell_type": "markdown",
   "id": "1ec40499",
   "metadata": {},
   "source": [
    "New Tensors can be created from other Tensors. The new one will keep the <b>shape and dataype</b> from the argument, unless explictly override"
   ]
  },
  {
   "cell_type": "code",
   "execution_count": 6,
   "id": "8d77b077",
   "metadata": {},
   "outputs": [
    {
     "name": "stdout",
     "output_type": "stream",
     "text": [
      "Zeros Tensor: \n",
      " tensor([[0, 0, 0],\n",
      "        [0, 0, 0],\n",
      "        [0, 0, 0]]) \n",
      "\n",
      "Ones Tensor: \n",
      " tensor([[1, 1, 1],\n",
      "        [1, 1, 1],\n",
      "        [1, 1, 1]]) \n",
      "\n",
      "Random Tensor: \n",
      " tensor([[0.7911, 0.2080, 0.6961],\n",
      "        [0.7797, 0.2187, 0.3251],\n",
      "        [0.6091, 0.0514, 0.1571]]) \n",
      "\n"
     ]
    }
   ],
   "source": [
    "# Declare Tensor from tensors\n",
    "\n",
    "# Declare a tensor of 0s with the same shape as tensor_data\n",
    "tensor_zeros = torch.zeros_like(tensor_data)\n",
    "print(f\"Zeros Tensor: \\n {tensor_zeros} \\n\")\n",
    "\n",
    "# Declare a tensor of 1s withe the same shape as tensor_np\n",
    "tensor_ones = torch.ones_like(tensor_np)\n",
    "print(f\"Ones Tensor: \\n {tensor_ones} \\n\")\n",
    "\n",
    "# Declare a random tensor with the the same shape as tensor_np\n",
    "tensor_random = torch.rand_like(tensor_data, dtype = torch.float)\n",
    "print(f\"Random Tensor: \\n {tensor_random} \\n\")\n"
   ]
  },
  {
   "cell_type": "code",
   "execution_count": 9,
   "id": "8aad0334",
   "metadata": {},
   "outputs": [
    {
     "name": "stdout",
     "output_type": "stream",
     "text": [
      "Shape of tensor: torch.Size([3, 3])\n",
      "Datatype of tensor: torch.float32\n",
      "Device tensor is stored on: cpu\n"
     ]
    }
   ],
   "source": [
    "print(f\"Shape of tensor: {tensor_random.shape}\")\n",
    "print(f\"Datatype of tensor: {tensor_random.dtype}\")\n",
    "print(f\"Device tensor is stored on: {tensor_random.device}\")"
   ]
  },
  {
   "cell_type": "code",
   "execution_count": 12,
   "id": "2b96ab99",
   "metadata": {},
   "outputs": [
    {
     "name": "stdout",
     "output_type": "stream",
     "text": [
      "Device tensor is stored on: mps:0\n"
     ]
    }
   ],
   "source": [
    "if torch.backends.mps.is_available():\n",
    "    tensor = tensor_random.to('mps')\n",
    "    print(f\"Device tensor is stored on: {tensor.device}\")"
   ]
  },
  {
   "cell_type": "code",
   "execution_count": 7,
   "id": "98d808a0",
   "metadata": {},
   "outputs": [
    {
     "name": "stdout",
     "output_type": "stream",
     "text": [
      "tensor([1.], device='mps:0')\n"
     ]
    }
   ],
   "source": [
    "import torch\n",
    "if torch.backends.mps.is_available():\n",
    "    mps_device = torch.device(\"mps\")\n",
    "    x = torch.ones(1, device=mps_device)\n",
    "    print (x)\n",
    "else:\n",
    "    print (\"MPS device not found.\")"
   ]
  }
 ],
 "metadata": {
  "kernelspec": {
   "display_name": "Python 3 (ipykernel)",
   "language": "python",
   "name": "python3"
  },
  "language_info": {
   "codemirror_mode": {
    "name": "ipython",
    "version": 3
   },
   "file_extension": ".py",
   "mimetype": "text/x-python",
   "name": "python",
   "nbconvert_exporter": "python",
   "pygments_lexer": "ipython3",
   "version": "3.9.16"
  }
 },
 "nbformat": 4,
 "nbformat_minor": 5
}
