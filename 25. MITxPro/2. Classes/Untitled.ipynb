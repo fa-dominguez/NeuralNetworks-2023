{
 "cells": [
  {
   "cell_type": "code",
   "execution_count": 8,
   "id": "f5afb874",
   "metadata": {},
   "outputs": [],
   "source": [
    "class Rectangle():\n",
    "    color = 'green'\n",
    "\n",
    "    def __init__(self, length, width):\n",
    "        self.length = length\n",
    "        self.width = width\n",
    "\n",
    "    def area(self):\n",
    "        return self.length * self.width\n",
    "    \n",
    "    def volume(self, depth):\n",
    "        self.depth = depth\n",
    "        return self.length * self.width * self.depth"
   ]
  },
  {
   "cell_type": "code",
   "execution_count": 31,
   "id": "4c16de28",
   "metadata": {},
   "outputs": [],
   "source": [
    "class BankAccount():\n",
    "    '''\n",
    "    Instance attributes\n",
    "      balance: integer that stores bank balance in dollars\n",
    "\n",
    "    Methods\n",
    "      get_balance(): gets current value of bank balance\n",
    "      \n",
    "      deposit(val): adds specified value to balance\n",
    "      \n",
    "      withdraw(val): if there are sufficient funds in account, \n",
    "      subtracts val from balance and returns True; otherwise\n",
    "      returns False\n",
    "    '''\n",
    "    def __init__(self, balance):\n",
    "        self.balance = balance\n",
    "\n",
    "    def get_balance(self):\n",
    "        return self.balance\n",
    "\n",
    "    def deposit(self, val):\n",
    "        self.balance += val\n",
    "\n",
    "    def withdraw(self, val):\n",
    "        self.balance -= val\n",
    "\n",
    "\n"
   ]
  },
  {
   "cell_type": "code",
   "execution_count": 32,
   "id": "6351acab",
   "metadata": {},
   "outputs": [
    {
     "data": {
      "text/plain": [
       "1000"
      ]
     },
     "execution_count": 32,
     "metadata": {},
     "output_type": "execute_result"
    }
   ],
   "source": [
    "banck_acc = BankAccount(1000)\n",
    "banck_acc.balance"
   ]
  },
  {
   "cell_type": "code",
   "execution_count": 34,
   "id": "5cfad3ca",
   "metadata": {},
   "outputs": [
    {
     "data": {
      "text/plain": [
       "900"
      ]
     },
     "execution_count": 34,
     "metadata": {},
     "output_type": "execute_result"
    }
   ],
   "source": [
    "banck_acc.balance"
   ]
  },
  {
   "cell_type": "code",
   "execution_count": 33,
   "id": "8a49957f",
   "metadata": {},
   "outputs": [],
   "source": [
    "banck_acc.withdraw(100)"
   ]
  }
 ],
 "metadata": {
  "kernelspec": {
   "display_name": "Python 3 (ipykernel)",
   "language": "python",
   "name": "python3"
  },
  "language_info": {
   "codemirror_mode": {
    "name": "ipython",
    "version": 3
   },
   "file_extension": ".py",
   "mimetype": "text/x-python",
   "name": "python",
   "nbconvert_exporter": "python",
   "pygments_lexer": "ipython3",
   "version": "3.9.13"
  }
 },
 "nbformat": 4,
 "nbformat_minor": 5
}
