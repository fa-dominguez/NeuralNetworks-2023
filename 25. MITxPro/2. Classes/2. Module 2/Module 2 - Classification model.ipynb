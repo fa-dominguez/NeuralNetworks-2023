{
 "cells": [
  {
   "cell_type": "code",
   "execution_count": 1,
   "id": "285c6887",
   "metadata": {},
   "outputs": [],
   "source": [
    "import numpy as np\n",
    "import math, random\n",
    "import matplotlib.pyplot as plt\n",
    "from mpl_toolkits import mplot3d"
   ]
  },
  {
   "cell_type": "code",
   "execution_count": 10,
   "id": "46e4cadc",
   "metadata": {},
   "outputs": [
    {
     "name": "stdout",
     "output_type": "stream",
     "text": [
      "input [1, 2] => output 0.9525741177484588\n"
     ]
    }
   ],
   "source": [
    "# ---- Step 1: define the model ----\n",
    "\n",
    "# Define single neuron function\n",
    "def single_neuron_classification_model(w, w_0, x):\n",
    "    '''\n",
    "    Creation of a single neuron regression model. This function calculates the 'z' output vector\n",
    "    and returns the result of the activation function (a) over this vector. w and x must be same length\n",
    "    \n",
    "    Parameters\n",
    "    ----------\n",
    "    variable  | type  | \n",
    "    w           var.\n",
    "    w_0         float\n",
    "    x           var.\n",
    "    '''\n",
    "    \n",
    "    # Perform the dot product on the input x and the learned weights w (z output vector)\n",
    "    z = 0\n",
    "    \n",
    "    # loop over each feature and weight in x and w vector\n",
    "    # zip function generates a tuple for each x,w pair.\n",
    "    for feature, weight in zip(x, w):\n",
    "        \n",
    "        # z is the sum of all feature * weight\n",
    "        z += feature * weight\n",
    "    \n",
    "    #Add the bias term\n",
    "    z += w_0  \n",
    "    \n",
    "    # Apply the activation function, and return\n",
    "    # This is the only change compare witht he regression, as now we need a sigmoid function activation.\n",
    "    a = sigmoid(z)\n",
    "    return a\n",
    "\n",
    "# Sigmoid function to activate the classification reg model. Transform a real value between 0 and 1\n",
    "def sigmoid(z):\n",
    "    # Avoid division by 0\n",
    "    non_zero_tolerance = 1e-8 \n",
    "    sigmoid_f = 1 / (1 + math.exp(-z) + non_zero_tolerance)\n",
    "    return sigmoid_f\n",
    "\n",
    "\n",
    "# Test model output for a single 2D datapoint:\n",
    "x = [1, 2]\n",
    "w = [5, 3]\n",
    "w_0 = -8\n",
    "\n",
    "# predict y_value\n",
    "# y follows the function: x_1 * w_1 + x_2 * w_2 + w_0\n",
    "y = single_neuron_regression_model(w, w_0, x) \n",
    "\n",
    "# print result\n",
    "print(\"input\", x, \"=> output\", y)"
   ]
  },
  {
   "cell_type": "code",
   "execution_count": 5,
   "id": "f8bf9289",
   "metadata": {},
   "outputs": [],
   "source": [
    "# The training process uses a negative log likelihood (NLL) loss function instead of the Square error\n",
    "def train_model_NLL_loss(m_function, w, w_0, i_data, o_data, learning_rate, num_epochs):\n",
    "    non_zero_tolerance = 1e-8\n",
    "    \n",
    "    # iterate over each epoch\n",
    "    for epoch in range(num_epochs):\n",
    "        total_loss = 0\n",
    "        \n",
    "        for x, y in zip(i_data, o_data):\n",
    "            \n",
    "            # predict y value for each observation\n",
    "            y_predicted = m_function(w, w_0, x)\n",
    "            \n",
    "            # negative log likelihood loss function\n",
    "            nll_loss = -(y * math.log(y_predicted + non_zero_tolerance) + (1-y) * \\\n",
    "                         math.log(1-y_predicted + non_zero_tolerance))\n",
    "            \n",
    "            # Calculate error\n",
    "            error = y_predicted - y\n",
    "            \n",
    "            total_loss += nll_loss\n",
    "            \n",
    "            # update bias coefficient\n",
    "            w_0 -= learning_rate * error * 1\n",
    "            \n",
    "            # update all coefficients\n",
    "            for j, x_j in enumerate(x):\n",
    "                \n",
    "                w[j] -= learning_rate * error * x_j\n",
    "            \n",
    "        report_every = max(1, num_epochs // 10)\n",
    "        if epoch % report_every == 0: #every few epochs, report on progress\n",
    "            print(\"epoch\", epoch, \"has total loss\", total_loss)\n",
    "           \n",
    "    return w, w_0"
   ]
  },
  {
   "cell_type": "code",
   "execution_count": 7,
   "id": "f12990bc",
   "metadata": {},
   "outputs": [],
   "source": [
    "# Function to evaluate the accuracy of the model\n",
    "def evaluate_classification_accuracy(m_function, w, w_0, i_data, o_data):\n",
    "    correct = 0\n",
    "    n = len(i_data)\n",
    "    \n",
    "    for x, y in zip(i_data, o_data):\n",
    "        \n",
    "        # Calculate the y value\n",
    "        y_predicted = m_function(w, w_0, x)\n",
    "        \n",
    "        # Define label predicted as 1 if y_pred >0.5, 0 else\n",
    "        label_predicted = 1 if y_predicted > 0.5 else 0\n",
    "        \n",
    "        # Evalaute if the prediction was correct or not\n",
    "        if label_predicted == y:\n",
    "            correct += 1\n",
    "        else:\n",
    "            print(\"Misclassify\", x, y, \"with activation\", y_predicted)\n",
    "    \n",
    "    # Calculate accuracy as the number of corrects over the total data\n",
    "    accuracy = correct / n\n",
    "    print(\"Our model predicted\", correct, \"out of\", n, \n",
    "          \"correctly for\", accuracy*100, \"% accuracy\")\n",
    "    return accuracy\n",
    "\n",
    "        "
   ]
  },
  {
   "cell_type": "code",
   "execution_count": 8,
   "id": "3cc7b54e",
   "metadata": {},
   "outputs": [
    {
     "data": {
      "image/png": "[encoded data removed]",
      "text/plain": [
       "<Figure size 640x480 with 1 Axes>"
      ]
     },
     "metadata": {},
     "output_type": "display_data"
    }
   ],
   "source": [
    "# Here we have a dataset of 2D linearly separable datapoints\n",
    "input_data = [[1, 1],\n",
    "              [1, 5],\n",
    "              [-2, 3],\n",
    "              [3, -4],\n",
    "              [4.5, 2],\n",
    "              [0, 1],\n",
    "              [-4, -4],\n",
    "              [-1, 2],\n",
    "              [4, -7],\n",
    "              [-1, 8]]\n",
    "# And their corresponding labels\n",
    "labels = [1, 1, 0, 1, 1, 0, 0, 0, 1, 0]\n",
    "\n",
    "# This utility function will allow us to visualize a given 2D dataset.\n",
    "# You don't need to understand this code right now.\n",
    "def plot_dataset_2D(x, y):\n",
    "    x_np = np.array(x)\n",
    "    x_np.reshape(len(x), 2)\n",
    "    colors = []\n",
    "    for label in y:\n",
    "        if label == 0:\n",
    "            colors.append(\"red\")\n",
    "        else:\n",
    "            colors.append(\"blue\")\n",
    "    plt.scatter(x_np[...,0], x_np[...,1], color=colors)\n",
    "\n",
    "# This utility function will allow us to visualize a 2D decision boundary\n",
    "def plot_decision_boundary_2D(w, w_0):\n",
    "    ylim = plt.ylim()\n",
    "    x1 = np.arange(-5,6)\n",
    "    plt.plot(x1, (-w_0 - w[0]*x1)/w[1])\n",
    "    plt.ylim(ylim)\n",
    "    \n",
    "# Visualize the above dataset\n",
    "plot_dataset_2D(input_data, labels)\n",
    "plot_decision_boundary_2D([1, 0.0001], -0.5)"
   ]
  },
  {
   "cell_type": "code",
   "execution_count": 11,
   "id": "7fbebf79",
   "metadata": {},
   "outputs": [
    {
     "name": "stdout",
     "output_type": "stream",
     "text": [
      "epoch 0 has total loss 6.508594077659496\n",
      "epoch 1 has total loss 5.46211191013139\n",
      "epoch 2 has total loss 4.821047709918714\n",
      "epoch 3 has total loss 4.376407793867182\n",
      "epoch 4 has total loss 4.044631318017442\n",
      "epoch 5 has total loss 3.785495957355281\n",
      "epoch 6 has total loss 3.5764951960506712\n",
      "epoch 7 has total loss 3.4037356044647034\n",
      "epoch 8 has total loss 3.2580744775443593\n",
      "epoch 9 has total loss 3.1332214359416266\n",
      "epoch 10 has total loss 3.0247010050826195\n",
      "\n",
      "Final weights:\n",
      "[0.5960284097028588, -0.13469258109084148] -0.010512924479684558\n",
      "Misclassify [1, 5] 1 with activation 0.47802730360403245\n",
      "Our model predicted 9 out of 10 correctly for 90.0 % accuracy\n"
     ]
    },
    {
     "data": {
      "image/png": "[encoded data removed]",
      "text/plain": [
       "<Figure size 640x480 with 1 Axes>"
      ]
     },
     "metadata": {},
     "output_type": "display_data"
    }
   ],
   "source": [
    "# In this example we set the initial weights to zero and the learning rate \n",
    "# relatively small. However, we only train for a few epochs which is not \n",
    "# enough to converge on an accurate classifier.\n",
    "w_0 = 0\n",
    "w = [0, 0]\n",
    "learning_rate = 0.01\n",
    "epochs = 11\n",
    "\n",
    "w, w_0 = train_model_NLL_loss(single_neuron_classification_model, w, w_0,\n",
    "                              input_data, labels, \n",
    "                              learning_rate, epochs)\n",
    "print(\"\\nFinal weights:\")\n",
    "print(w, w_0)\n",
    "evaluate_classification_accuracy(single_neuron_classification_model, w, w_0, input_data, labels)\n",
    "plot_dataset_2D(input_data, labels)\n",
    "plot_decision_boundary_2D(w, w_0)"
   ]
  },
  {
   "cell_type": "code",
   "execution_count": 13,
   "id": "e2634449",
   "metadata": {},
   "outputs": [
    {
     "name": "stdout",
     "output_type": "stream",
     "text": [
      "epoch 0 has total loss 6.223923692215003\n",
      "epoch 10 has total loss 2.9287154378367712\n",
      "epoch 20 has total loss 2.3584449039881488\n",
      "epoch 30 has total loss 2.0636076120006903\n",
      "epoch 40 has total loss 1.8696299804962355\n",
      "epoch 50 has total loss 1.7267167165811537\n",
      "epoch 60 has total loss 1.6144108218404705\n",
      "epoch 70 has total loss 1.5224295144979199\n",
      "epoch 80 has total loss 1.4448950765018669\n",
      "epoch 90 has total loss 1.3781364940480267\n",
      "epoch 100 has total loss 1.319708591557062\n",
      "\n",
      "Final weights:\n",
      "[1.7028723012501872, -0.09064040426016721] -0.1352352402813103\n",
      "Our model predicted 10 out of 10 correctly for 100.0 % accuracy\n"
     ]
    },
    {
     "data": {
      "image/png": "[encoded data removed]",
      "text/plain": [
       "<Figure size 640x480 with 1 Axes>"
      ]
     },
     "metadata": {},
     "output_type": "display_data"
    }
   ],
   "source": [
    "# It is a bad practice to start the NN with w and w_0  as 0\n",
    "w_0 = 0.1\n",
    "w = [0.1, 0.1]\n",
    "\n",
    "# In practice, weights are typically initially randomnized\n",
    "# w_0 = random.gauss(0, 1)\n",
    "# w = [random.gauss(0, 1) for i in range(2)]\n",
    "\n",
    "learning_rate = 0.01\n",
    "epochs = 101\n",
    "\n",
    "w, w_0 = train_model_NLL_loss(single_neuron_classification_model, w, w_0,\\\n",
    "                              input_data, labels, learning_rate, epochs)\n",
    "\n",
    "print(\"\\nFinal weights:\")\n",
    "print(w, w_0)\n",
    "evaluate_classification_accuracy(single_neuron_classification_model, w, w_0, input_data, labels)\n",
    "plot_dataset_2D(input_data, labels)\n",
    "plot_decision_boundary_2D(w, w_0)"
   ]
  }
 ],
 "metadata": {
  "kernelspec": {
   "display_name": "Python 3 (ipykernel)",
   "language": "python",
   "name": "python3"
  },
  "language_info": {
   "codemirror_mode": {
    "name": "ipython",
    "version": 3
   },
   "file_extension": ".py",
   "mimetype": "text/x-python",
   "name": "python",
   "nbconvert_exporter": "python",
   "pygments_lexer": "ipython3",
   "version": "3.9.13"
  }
 },
 "nbformat": 4,
 "nbformat_minor": 5
}
