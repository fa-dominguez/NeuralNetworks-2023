{
 "cells": [
  {
   "cell_type": "code",
   "execution_count": 12,
   "id": "dcf3f19e",
   "metadata": {},
   "outputs": [],
   "source": [
    "import numpy as np\n",
    "import math, random\n",
    "import matplotlib.pyplot as plt\n",
    "from mpl_toolkits import mplot3d"
   ]
  },
  {
   "cell_type": "code",
   "execution_count": 26,
   "id": "432f1452",
   "metadata": {},
   "outputs": [
    {
     "name": "stdout",
     "output_type": "stream",
     "text": [
      "input [1, 2] => output 3\n"
     ]
    }
   ],
   "source": [
    "# Implement and train a single neuron regression model\n",
    "\n",
    "# ---- Step 1: define the model ----\n",
    "\n",
    "# Define single neuron function\n",
    "def single_neuron_regression_model(w, w_0, x):\n",
    "    '''\n",
    "    Creation of a single neuron regression model. This function calculates the 'z' output vector\n",
    "    and returns the result of the activation function (a) over this vector. w and x must be same length\n",
    "    \n",
    "    Parameters\n",
    "    ----------\n",
    "    variable  | type  | \n",
    "    w           var.\n",
    "    w_0         float\n",
    "    x           var.\n",
    "    '''\n",
    "    \n",
    "    # Perform the dot product on the input x and the learned weights w (z output vector)\n",
    "    z = 0\n",
    "    \n",
    "    # loop over each feature and weight in x and w vector\n",
    "    # zip function generates a tuple for each x,w pair.\n",
    "    for feature, weight in zip(x, w):\n",
    "        \n",
    "        # z is the sum of all feature * weight\n",
    "        z += feature * weight\n",
    "    \n",
    "    #Add the bias term\n",
    "    z += w_0  \n",
    "    \n",
    "    # Apply the activation function, and return\n",
    "    a = linear(z)\n",
    "    return a\n",
    "\n",
    "# simple linear activiation function: just returns identity\n",
    "def linear(z):\n",
    "    return z\n",
    "\n",
    "\n",
    "# Test model output for a single 2D datapoint:\n",
    "x = [1, 2]\n",
    "w = [5, 3]\n",
    "w_0 = -8\n",
    "\n",
    "# predict y_value\n",
    "# y follows the function: x_1 * w_1 + x_2 * w_2 + w_0\n",
    "y = single_neuron_regression_model(w, w_0, x) \n",
    "\n",
    "# print result\n",
    "print(\"input\", x, \"=> output\", y)\n"
   ]
  },
  {
   "cell_type": "code",
   "execution_count": 35,
   "id": "4ee7d180",
   "metadata": {},
   "outputs": [],
   "source": [
    "# ---- Step 2: train the model ----\n",
    "\n",
    "# define train model based on square error loss function\n",
    "def train_model_SE_loss(m_function, w, w_0, i_data, o_data, learning_rate, num_epochs):\n",
    "    \n",
    "    # Iterates over the number of iterations declared (num_epochs)\n",
    "    for epoch in range(num_epochs):\n",
    "        # Keep track of total loss across the data set \n",
    "        total_loss = 0\n",
    "        # iterates over each pair x,y from input & output data\n",
    "        for x, y in zip(i_data, o_data):\n",
    "            \n",
    "\n",
    "            # calculate predicted y value based on the model function\n",
    "            y_predicted = m_function(w, w_0, x)\n",
    "\n",
    "            # calculate error\n",
    "            error = y_predicted - y\n",
    "            \n",
    "            # sum up the total 'square error' loss of all x, y pairs\n",
    "            total_loss += (error ** 2) / 2\n",
    "            \n",
    "            # Update bias coefficient (w_0) using the gradient\n",
    "            # For bias coefficient dy_predicted/dw_0 is 1.\n",
    "            w_0 -= learning_rate * error * 1\n",
    "            \n",
    "            # Update the rest of the coefficients\n",
    "            # j: keeps index; x_j: keeps coefficient value\n",
    "            for j, x_j in enumerate(x):\n",
    "                \n",
    "                # The derivate dy_predicted / dw_j is x_j\n",
    "                w[j] -= learning_rate * error * x_j\n",
    "                \n",
    "        report_every = max(1, num_epochs // 10)\n",
    "        if epoch % report_every == 0:\n",
    "            print(\"epoch\", epoch, \"has total loss\", total_loss)\n",
    "    return w, w_0\n"
   ]
  },
  {
   "cell_type": "code",
   "execution_count": 28,
   "id": "6d132fc5",
   "metadata": {},
   "outputs": [],
   "source": [
    "# ----- Step 3: Evaluate the accuracy of the model\n",
    "def evaluate_regression_accuracy(model_function, w, w_0, i_data, o_data):\n",
    "    total_loss = 0\n",
    "    n = len(i_data)\n",
    "    \n",
    "    for x,y in zip(i_data, o_data):\n",
    "        \n",
    "        # predict the y value based on w, w_0, and x\n",
    "        y_predicted = model_function(w, w_0, x)\n",
    "        \n",
    "        # Calculate the error per iteration\n",
    "        error = y_predicted - y\n",
    "        \n",
    "        # Calculate the square error\n",
    "        total_loss += (error ** 2) /2\n",
    "    \n",
    "    # accuracy calculated as the total loss over the number of features\n",
    "    accuracy = total_loss / n\n",
    "    print(\"Our model has mean square error of\", accuracy)\n",
    "    return accuracy"
   ]
  },
  {
   "cell_type": "code",
   "execution_count": 29,
   "id": "78ab4313",
   "metadata": {},
   "outputs": [
    {
     "data": {
      "image/png": "[encoded data removed]",
      "text/plain": [
       "<Figure size 640x480 with 1 Axes>"
      ]
     },
     "metadata": {},
     "output_type": "display_data"
    }
   ],
   "source": [
    "# ----- Step 4: Plotting the dataset\n",
    "\n",
    "# Declare a one dimension data set\n",
    "X_1D = [[1], [-2], [3], [4.5], [0], [-4], [-1], [4], [-1]]\n",
    "Y_1D = [4,   3,    6,   8,     2,   -3,   -2,   7,   2.5]\n",
    "\n",
    "# Scatter plot of x, y\n",
    "def plot_dataset_1D(x, y):\n",
    "    x_np = np.array(x)\n",
    "    y_np = np.array(y)\n",
    "    # np.array[..., 0] -> Get the first element of each sub element\n",
    "    plt.scatter(x_np[...,0], y_np)\n",
    "\n",
    "def plot_fit_1D(X, w, w_0):\n",
    "    ylim = plt.ylim()\n",
    "    x_np = np.array(X)\n",
    "    y_pred = np.array([single_neuron_regression_model(w, w_0, x) for x in X])\n",
    "    \n",
    "    plt.plot(x_np[..., 0], y_pred, color = 'red')\n",
    "\n",
    "plot_dataset_1D(X_1D, Y_1D)\n"
   ]
  },
  {
   "cell_type": "code",
   "execution_count": 36,
   "id": "dbbc52a5",
   "metadata": {},
   "outputs": [
    {
     "name": "stdout",
     "output_type": "stream",
     "text": [
      "epoch 0 has total loss 75.15118164194563\n",
      "epoch 1 has total loss 40.109157956509094\n",
      "epoch 2 has total loss 29.801523004849642\n",
      "epoch 3 has total loss 25.47970121810249\n",
      "epoch 4 has total loss 22.84563043777799\n",
      "epoch 5 has total loss 20.86922066083035\n",
      "epoch 6 has total loss 19.269845776759738\n",
      "epoch 7 has total loss 17.945486824052068\n",
      "epoch 8 has total loss 16.841512143299816\n",
      "epoch 9 has total loss 15.91945696552539\n",
      "epoch 10 has total loss 15.148892782711584\n",
      "Final weights:\n",
      "[1.2616634248232683] 1.589875809042491\n"
     ]
    }
   ],
   "source": [
    "# ----- Step 5: Train the model and call the functions\n",
    "# Let's start with a value of w_0 and w 0\n",
    "w_0 = 0\n",
    "w = [0]\n",
    "learning_rate = 0.01\n",
    "epochs = 11\n",
    "\n",
    "w, w_0 = train_model_SE_loss(single_neuron_regression_model, w, w_0, X_1D, Y_1D, learning_rate, epochs)\n",
    "\n",
    "print('Final weights:')\n",
    "print(w, w_0)"
   ]
  },
  {
   "cell_type": "code",
   "execution_count": 66,
   "id": "262f6509",
   "metadata": {},
   "outputs": [
    {
     "name": "stdout",
     "output_type": "stream",
     "text": [
      "0.8089565304665894\n"
     ]
    },
    {
     "data": {
      "text/plain": [
       "array([1.1780303])"
      ]
     },
     "execution_count": 66,
     "metadata": {},
     "output_type": "execute_result"
    }
   ],
   "source": [
    "# Compare result with the sklearn linear regression model.\n",
    "\n",
    "from sklearn.linear_model import LinearRegression\n",
    "\n",
    "X_1D = np.array([1, -2, 3, 4.5, 0, -4, -1, 4, -1]).reshape((-1,1))\n",
    "Y_1D = np.array([4,  3, 6, 8  , 2, -3, -2, 7, 2.5])\n",
    "\n",
    "X = np.array([1, -2, 3, 4.5, 0, -4, -1, 4, -1]).reshape(-1,1)\n",
    "reg = LinearRegression().fit(X_1D, Y_1D)\n",
    "print(reg.score(X, y))\n",
    "reg.coef_\n"
   ]
  },
  {
   "cell_type": "code",
   "execution_count": 70,
   "id": "35a520df",
   "metadata": {},
   "outputs": [
    {
     "data": {
      "text/plain": [
       "2.403374017957351"
      ]
     },
     "execution_count": 70,
     "metadata": {},
     "output_type": "execute_result"
    }
   ],
   "source": [
    "from sklearn.metrics import mean_squared_error\n",
    "y_pred = reg.predict(X_1D)\n",
    "\n",
    "mean_squared_error(Y_1D, y_pred)"
   ]
  },
  {
   "cell_type": "code",
   "execution_count": null,
   "id": "7f748fa6",
   "metadata": {},
   "outputs": [],
   "source": []
  },
  {
   "cell_type": "code",
   "execution_count": 57,
   "id": "21bce955",
   "metadata": {},
   "outputs": [
    {
     "data": {
      "text/plain": [
       "True"
      ]
     },
     "execution_count": 57,
     "metadata": {},
     "output_type": "execute_result"
    }
   ],
   "source": [
    "X.shape == Y_1D.shape"
   ]
  }
 ],
 "metadata": {
  "kernelspec": {
   "display_name": "Python 3 (ipykernel)",
   "language": "python",
   "name": "python3"
  },
  "language_info": {
   "codemirror_mode": {
    "name": "ipython",
    "version": 3
   },
   "file_extension": ".py",
   "mimetype": "text/x-python",
   "name": "python",
   "nbconvert_exporter": "python",
   "pygments_lexer": "ipython3",
   "version": "3.9.13"
  }
 },
 "nbformat": 4,
 "nbformat_minor": 5
}
